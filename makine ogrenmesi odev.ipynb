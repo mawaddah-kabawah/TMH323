{
 "cells": [
  {
   "cell_type": "markdown",
   "id": "080186d7",
   "metadata": {},
   "source": [
    "# Makine öğrenmesi odevi 2023-2024\n",
    "### Öğrenci adı: mawaddah kabawah \n",
    "### Öğrenci numara: 2010235510"
   ]
  },
  {
   "cell_type": "markdown",
   "id": "d1835611",
   "metadata": {},
   "source": [
    "# konu: kalp hastalığı verisitesi "
   ]
  },
  {
   "cell_type": "markdown",
   "id": "804866ee",
   "metadata": {},
   "source": [
    "* index                     \n",
    "* Age                       \n",
    "* Sex                       \n",
    "* Chest pain type >>\tThe type of chest pain experienced by the patient.          \n",
    "* BP >> The blood pressure level of the patient.                  \n",
    "* Cholesterol  >> The cholesterol level of the patient           \n",
    "* FBS over 120 >>  The fasting blood sugar test results over 120 mg/d.         \n",
    "* EKG results  >> The electrocardiogram results of the patient.\n",
    "* Max HR  >> The maximum heart rate levels achieved during exercise testing.               \n",
    "* Exercise angina >> The angina experienced during exercise testing.         \n",
    "* ST depression >> The ST depression on an Electrocardiogram.\n",
    "* Slope of ST   >> The slope of ST segment electrocardiogram readings.          \n",
    "* Number of vessels fluro >> The amount vessels seen in Fluoroscopy images.   \n",
    "* Thallium >> The Thallium Stress test findings.                \n",
    "* Heart Disease >> Whether or not the patient has been diagnosed with Heart Disease.           "
   ]
  },
  {
   "cell_type": "markdown",
   "id": "74e5638a",
   "metadata": {},
   "source": [
    "# Veri hazırlık süreci\n",
    "\n",
    "\n",
    "\n",
    "## Genel bakış atıyoruz ve varsa gereksiz bilgileri tespit ederiz."
   ]
  },
  {
   "cell_type": "code",
   "execution_count": 41,
   "id": "2221e5b3",
   "metadata": {},
   "outputs": [
    {
     "name": "stdout",
     "output_type": "stream",
     "text": [
      "   Unnamed: 0.1  Unnamed: 0  index  Age  Sex  Chest pain type   BP  \\\n",
      "0             0           0      0   70    1                4  130   \n",
      "1             1           1      1   67    0                3  115   \n",
      "2             2           2      2   57    1                2  124   \n",
      "3             3           3      3   64    1                4  128   \n",
      "4             4           4      4   74    0                2  120   \n",
      "\n",
      "   Cholesterol  FBS over 120  EKG results  Max HR  Exercise angina  \\\n",
      "0          322             0            2     109                0   \n",
      "1          564             0            2     160                0   \n",
      "2          261             0            0     141                0   \n",
      "3          263             0            0     105                1   \n",
      "4          269             0            2     121                1   \n",
      "\n",
      "   ST depression  Slope of ST  Number of vessels fluro  Thallium  \\\n",
      "0            2.4            2                        3         3   \n",
      "1            1.6            2                        0         7   \n",
      "2            0.3            1                        0         7   \n",
      "3            0.2            2                        1         7   \n",
      "4            0.2            1                        1         3   \n",
      "\n",
      "   Heart Disease_Absence  Heart Disease_Presence  \n",
      "0                      0                       1  \n",
      "1                      1                       0  \n",
      "2                      0                       1  \n",
      "3                      1                       0  \n",
      "4                      1                       0  \n"
     ]
    }
   ],
   "source": [
    "import pandas as pd\n",
    "import numpy as np\n",
    "\n",
    "df=pd.read_csv(\"Heart_Disease_Prediction.csv\")\n",
    "print(df.head())"
   ]
  },
  {
   "cell_type": "code",
   "execution_count": 36,
   "id": "e01efec5",
   "metadata": {},
   "outputs": [
    {
     "name": "stdout",
     "output_type": "stream",
     "text": [
      "<class 'pandas.core.frame.DataFrame'>\n",
      "RangeIndex: 270 entries, 0 to 269\n",
      "Data columns (total 1 columns):\n",
      " #   Column                                                                                                                                                                                                            Non-Null Count  Dtype \n",
      "---  ------                                                                                                                                                                                                            --------------  ----- \n",
      " 0   ,Unnamed: 0,index,Age,Sex,Chest pain type,BP,Cholesterol,FBS over 120,EKG results,Max HR,Exercise angina,ST depression,Slope of ST,Number of vessels fluro,Thallium,Heart Disease_Absence,Heart Disease_Presence  270 non-null    object\n",
      "dtypes: object(1)\n",
      "memory usage: 2.2+ KB\n",
      "None\n"
     ]
    }
   ],
   "source": [
    "print(df.info())"
   ]
  },
  {
   "cell_type": "code",
   "execution_count": 37,
   "id": "e538d348",
   "metadata": {},
   "outputs": [
    {
     "data": {
      "image/png": "[encoded data removed]",
      "text/plain": [
       "<Figure size 432x288 with 1 Axes>"
      ]
     },
     "metadata": {
      "needs_background": "light"
     },
     "output_type": "display_data"
    },
    {
     "data": {
      "image/png": "[encoded data removed]",
      "text/plain": [
       "<Figure size 432x288 with 1 Axes>"
      ]
     },
     "metadata": {
      "needs_background": "light"
     },
     "output_type": "display_data"
    }
   ],
   "source": [
    "plt.hist(dfNew['Heart Disease_Presence'],color='blue',bins =15)\n",
    "plt.title(\"Heart Disease_Presence\")\n",
    "plt.xlabel(\"Presence or not\")\n",
    "plt.ylabel(\"number of patient\")\n",
    "plt.grid(alpha=0.5)\n",
    "plt.show()\n",
    "\n",
    "\n",
    "plt.hist(dfNew['Cholesterol'],color='red',bins = 50)\n",
    "plt.title(\"Cholesterol \")\n",
    "plt.tick_params(axis='x', rotation=90)\n",
    "plt.xlabel(\"Cholesterol\")\n",
    "plt.ylabel(\"how much\")\n",
    "plt.show()"
   ]
  },
  {
   "cell_type": "markdown",
   "id": "50adb633",
   "metadata": {},
   "source": [
    "## Özellik seçimi\n",
    " \n",
    "### 'index' gereksiz görünüyor."
   ]
  },
  {
   "cell_type": "code",
   "execution_count": 42,
   "id": "66626ade",
   "metadata": {},
   "outputs": [],
   "source": [
    "df.drop(\"index\",axis=1,inplace=True)"
   ]
  },
  {
   "cell_type": "code",
   "execution_count": 43,
   "id": "65d4aeb8",
   "metadata": {},
   "outputs": [
    {
     "name": "stdout",
     "output_type": "stream",
     "text": [
      "     Unnamed: 0.1  Unnamed: 0  Age  Sex  Chest pain type   BP  Cholesterol  \\\n",
      "0               0           0   70    1                4  130          322   \n",
      "1               1           1   67    0                3  115          564   \n",
      "2               2           2   57    1                2  124          261   \n",
      "3               3           3   64    1                4  128          263   \n",
      "4               4           4   74    0                2  120          269   \n",
      "..            ...         ...  ...  ...              ...  ...          ...   \n",
      "265           265         265   52    1                3  172          199   \n",
      "266           266         266   44    1                2  120          263   \n",
      "267           267         267   56    0                2  140          294   \n",
      "268           268         268   57    1                4  140          192   \n",
      "269           269         269   67    1                4  160          286   \n",
      "\n",
      "     FBS over 120  EKG results  Max HR  Exercise angina  ST depression  \\\n",
      "0               0            2     109                0            2.4   \n",
      "1               0            2     160                0            1.6   \n",
      "2               0            0     141                0            0.3   \n",
      "3               0            0     105                1            0.2   \n",
      "4               0            2     121                1            0.2   \n",
      "..            ...          ...     ...              ...            ...   \n",
      "265             1            0     162                0            0.5   \n",
      "266             0            0     173                0            0.0   \n",
      "267             0            2     153                0            1.3   \n",
      "268             0            0     148                0            0.4   \n",
      "269             0            2     108                1            1.5   \n",
      "\n",
      "     Slope of ST  Number of vessels fluro  Thallium  Heart Disease_Absence  \\\n",
      "0              2                        3         3                      0   \n",
      "1              2                        0         7                      1   \n",
      "2              1                        0         7                      0   \n",
      "3              2                        1         7                      1   \n",
      "4              1                        1         3                      1   \n",
      "..           ...                      ...       ...                    ...   \n",
      "265            1                        0         7                      1   \n",
      "266            1                        0         7                      1   \n",
      "267            2                        0         3                      1   \n",
      "268            2                        0         6                      1   \n",
      "269            2                        3         3                      0   \n",
      "\n",
      "     Heart Disease_Presence  \n",
      "0                         1  \n",
      "1                         0  \n",
      "2                         1  \n",
      "3                         0  \n",
      "4                         0  \n",
      "..                      ...  \n",
      "265                       0  \n",
      "266                       0  \n",
      "267                       0  \n",
      "268                       0  \n",
      "269                       1  \n",
      "\n",
      "[270 rows x 17 columns]\n"
     ]
    }
   ],
   "source": [
    "print(df)"
   ]
  },
  {
   "cell_type": "markdown",
   "id": "89b2e938",
   "metadata": {},
   "source": [
    "# Veri temizliği ve dönüşümü\n",
    "## Kayıp verilerin tespiti ve dönüşümü"
   ]
  },
  {
   "cell_type": "code",
   "execution_count": 44,
   "id": "4a3049c7",
   "metadata": {},
   "outputs": [
    {
     "name": "stdout",
     "output_type": "stream",
     "text": [
      "0      70\n",
      "1      67\n",
      "2      57\n",
      "3      64\n",
      "4      74\n",
      "       ..\n",
      "265    52\n",
      "266    44\n",
      "267    56\n",
      "268    57\n",
      "269    67\n",
      "Name: Age, Length: 270, dtype: int64\n",
      "0      False\n",
      "1      False\n",
      "2      False\n",
      "3      False\n",
      "4      False\n",
      "       ...  \n",
      "265    False\n",
      "266    False\n",
      "267    False\n",
      "268    False\n",
      "269    False\n",
      "Name: Age, Length: 270, dtype: bool\n"
     ]
    }
   ],
   "source": [
    "print(df[\"Age\"])\n",
    "print(df[\"Age\"].isnull())"
   ]
  },
  {
   "cell_type": "code",
   "execution_count": null,
   "id": "43cf8fd5",
   "metadata": {},
   "outputs": [],
   "source": [
    "print(df.isnull().sum())"
   ]
  },
  {
   "cell_type": "code",
   "execution_count": null,
   "id": "bd635987",
   "metadata": {},
   "outputs": [],
   "source": [
    "print(df.isnull().sum().sum())"
   ]
  },
  {
   "cell_type": "code",
   "execution_count": null,
   "id": "765a304e",
   "metadata": {},
   "outputs": [],
   "source": [
    "df.dropna(inplace=True)\n",
    "print(df)"
   ]
  },
  {
   "cell_type": "code",
   "execution_count": 5,
   "id": "9d371088",
   "metadata": {},
   "outputs": [
    {
     "name": "stdout",
     "output_type": "stream",
     "text": [
      "0\n"
     ]
    }
   ],
   "source": [
    "print(df.isnull().sum().sum())"
   ]
  },
  {
   "cell_type": "markdown",
   "id": "544cf42e",
   "metadata": {},
   "source": [
    "## Veri tiplerinin dönüşümü \n",
    "### 'Age' int Olması gerekiyor"
   ]
  },
  {
   "cell_type": "code",
   "execution_count": 6,
   "id": "29870fd2",
   "metadata": {},
   "outputs": [
    {
     "name": "stdout",
     "output_type": "stream",
     "text": [
      "Unnamed: 0                   int64\n",
      "Age                          int64\n",
      "Sex                          int64\n",
      "Heart Disease_Absence        int64\n",
      "Heart Disease_Presence       int64\n",
      "Chest pain type            float64\n",
      "BP                         float64\n",
      "Cholesterol                float64\n",
      "FBS over 120               float64\n",
      "EKG results                float64\n",
      "Max HR                     float64\n",
      "Exercise angina            float64\n",
      "ST depression              float64\n",
      "Slope of ST                float64\n",
      "Number of vessels fluro    float64\n",
      "Thallium                   float64\n",
      "dtype: object\n",
      "Unnamed: 0                   int64\n",
      "Age                          int32\n",
      "Sex                          int64\n",
      "Heart Disease_Absence        int64\n",
      "Heart Disease_Presence       int64\n",
      "Chest pain type            float64\n",
      "BP                         float64\n",
      "Cholesterol                float64\n",
      "FBS over 120               float64\n",
      "EKG results                float64\n",
      "Max HR                     float64\n",
      "Exercise angina            float64\n",
      "ST depression              float64\n",
      "Slope of ST                float64\n",
      "Number of vessels fluro    float64\n",
      "Thallium                   float64\n",
      "dtype: object\n"
     ]
    }
   ],
   "source": [
    "print(df.dtypes)\n",
    "\n",
    "\n",
    "donusum={\"Age\":int}\n",
    "\n",
    "df=df.astype(donusum)\n",
    "print(df.dtypes)"
   ]
  },
  {
   "cell_type": "markdown",
   "id": "e119def9",
   "metadata": {},
   "source": [
    "## Tekrarlayan verilerin kaldırılması"
   ]
  },
  {
   "cell_type": "code",
   "execution_count": null,
   "id": "46011b08",
   "metadata": {},
   "outputs": [],
   "source": [
    "print(df.duplicated())"
   ]
  },
  {
   "cell_type": "code",
   "execution_count": 174,
   "id": "b1d516ac",
   "metadata": {},
   "outputs": [
    {
     "name": "stdout",
     "output_type": "stream",
     "text": [
      "Empty DataFrame\n",
      "Columns: [Age, Sex, Chest pain type, BP, Cholesterol, FBS over 120, EKG results, Max HR, Exercise angina, ST depression, Slope of ST, Number of vessels fluro, Thallium, Heart Disease]\n",
      "Index: []\n"
     ]
    }
   ],
   "source": [
    "print(df[df.duplicated()])"
   ]
  },
  {
   "cell_type": "markdown",
   "id": "9ae81b28",
   "metadata": {},
   "source": [
    "## Kategorik verilerin dönüşümü\n",
    "### Heart disease kategorik veri"
   ]
  },
  {
   "cell_type": "code",
   "execution_count": 175,
   "id": "1222915a",
   "metadata": {
    "scrolled": true
   },
   "outputs": [
    {
     "name": "stdout",
     "output_type": "stream",
     "text": [
      "     Age  Sex  Chest pain type   BP  Cholesterol  FBS over 120  EKG results  \\\n",
      "0     70    1                4  130          322             0            2   \n",
      "1     67    0                3  115          564             0            2   \n",
      "2     57    1                2  124          261             0            0   \n",
      "3     64    1                4  128          263             0            0   \n",
      "4     74    0                2  120          269             0            0   \n",
      "..   ...  ...              ...  ...          ...           ...          ...   \n",
      "265   52    1                3  172          199             1            0   \n",
      "266   44    1                2  120          263             0            0   \n",
      "267   56    0                2  140          294             0            2   \n",
      "268   57    1                4  140          192             0            0   \n",
      "269   67    1                4  160          286             0            2   \n",
      "\n",
      "     Max HR  Exercise angina  ST depression  Slope of ST  \\\n",
      "0       109                0            2.4            2   \n",
      "1       160                0            1.6            2   \n",
      "2       141                0            0.3            1   \n",
      "3       105                1            0.2            2   \n",
      "4       121                1            0.2            1   \n",
      "..      ...              ...            ...          ...   \n",
      "265     162                0            0.5            1   \n",
      "266     173                0            0.0            1   \n",
      "267     153                0            1.3            2   \n",
      "268     148                0            0.4            2   \n",
      "269     108                1            1.5            2   \n",
      "\n",
      "     Number of vessels fluro  Thallium  Heart Disease_Absence  \\\n",
      "0                          3         3                      0   \n",
      "1                          0         7                      1   \n",
      "2                          0         7                      0   \n",
      "3                          1         7                      1   \n",
      "4                          1         3                      1   \n",
      "..                       ...       ...                    ...   \n",
      "265                        0         7                      1   \n",
      "266                        0         7                      1   \n",
      "267                        0         3                      1   \n",
      "268                        0         6                      1   \n",
      "269                        3         3                      0   \n",
      "\n",
      "     Heart Disease_Presence  \n",
      "0                         1  \n",
      "1                         0  \n",
      "2                         1  \n",
      "3                         0  \n",
      "4                         0  \n",
      "..                      ...  \n",
      "265                       0  \n",
      "266                       0  \n",
      "267                       0  \n",
      "268                       0  \n",
      "269                       1  \n",
      "\n",
      "[268 rows x 15 columns]\n"
     ]
    }
   ],
   "source": [
    "df=pd.get_dummies(df,columns=[\"Heart Disease\"])\n",
    "print(df)"
   ]
  },
  {
   "cell_type": "code",
   "execution_count": 176,
   "id": "3ddb2422",
   "metadata": {},
   "outputs": [
    {
     "name": "stdout",
     "output_type": "stream",
     "text": [
      "<class 'pandas.core.frame.DataFrame'>\n",
      "Int64Index: 268 entries, 0 to 269\n",
      "Data columns (total 15 columns):\n",
      " #   Column                   Non-Null Count  Dtype  \n",
      "---  ------                   --------------  -----  \n",
      " 0   Age                      268 non-null    int32  \n",
      " 1   Sex                      268 non-null    int64  \n",
      " 2   Chest pain type          268 non-null    int64  \n",
      " 3   BP                       268 non-null    int64  \n",
      " 4   Cholesterol              268 non-null    int64  \n",
      " 5   FBS over 120             268 non-null    int64  \n",
      " 6   EKG results              268 non-null    int64  \n",
      " 7   Max HR                   268 non-null    int64  \n",
      " 8   Exercise angina          268 non-null    int64  \n",
      " 9   ST depression            268 non-null    float64\n",
      " 10  Slope of ST              268 non-null    int64  \n",
      " 11  Number of vessels fluro  268 non-null    int64  \n",
      " 12  Thallium                 268 non-null    int64  \n",
      " 13  Heart Disease_Absence    268 non-null    uint8  \n",
      " 14  Heart Disease_Presence   268 non-null    uint8  \n",
      "dtypes: float64(1), int32(1), int64(11), uint8(2)\n",
      "memory usage: 28.8 KB\n",
      "None\n"
     ]
    }
   ],
   "source": [
    "print(df.info())"
   ]
  },
  {
   "cell_type": "code",
   "execution_count": 177,
   "id": "7aaf0d40",
   "metadata": {},
   "outputs": [
    {
     "name": "stdout",
     "output_type": "stream",
     "text": [
      "     Age  Sex  Chest pain type   BP  Cholesterol  FBS over 120  EKG results  \\\n",
      "0     70    1                4  130          322             0            2   \n",
      "1     67    0                3  115          564             0            2   \n",
      "2     57    1                2  124          261             0            0   \n",
      "3     64    1                4  128          263             0            0   \n",
      "4     74    0                2  120          269             0            0   \n",
      "..   ...  ...              ...  ...          ...           ...          ...   \n",
      "263   52    1                3  172          199             1            0   \n",
      "264   44    1                2  120          263             0            0   \n",
      "265   56    0                2  140          294             0            2   \n",
      "266   57    1                4  140          192             0            0   \n",
      "267   67    1                4  160          286             0            2   \n",
      "\n",
      "     Max HR  Exercise angina  ST depression  Slope of ST  \\\n",
      "0       109                0            2.4            2   \n",
      "1       160                0            1.6            2   \n",
      "2       141                0            0.3            1   \n",
      "3       105                1            0.2            2   \n",
      "4       121                1            0.2            1   \n",
      "..      ...              ...            ...          ...   \n",
      "263     162                0            0.5            1   \n",
      "264     173                0            0.0            1   \n",
      "265     153                0            1.3            2   \n",
      "266     148                0            0.4            2   \n",
      "267     108                1            1.5            2   \n",
      "\n",
      "     Number of vessels fluro  Thallium  Heart Disease_Absence  \\\n",
      "0                          3         3                      0   \n",
      "1                          0         7                      1   \n",
      "2                          0         7                      0   \n",
      "3                          1         7                      1   \n",
      "4                          1         3                      1   \n",
      "..                       ...       ...                    ...   \n",
      "263                        0         7                      1   \n",
      "264                        0         7                      1   \n",
      "265                        0         3                      1   \n",
      "266                        0         6                      1   \n",
      "267                        3         3                      0   \n",
      "\n",
      "     Heart Disease_Presence  \n",
      "0                         1  \n",
      "1                         0  \n",
      "2                         1  \n",
      "3                         0  \n",
      "4                         0  \n",
      "..                      ...  \n",
      "263                       0  \n",
      "264                       0  \n",
      "265                       0  \n",
      "266                       0  \n",
      "267                       1  \n",
      "\n",
      "[268 rows x 15 columns]\n"
     ]
    }
   ],
   "source": [
    "df.reset_index(inplace=True,drop=True)\n",
    "print(df)"
   ]
  },
  {
   "cell_type": "markdown",
   "id": "3a7023b0",
   "metadata": {},
   "source": [
    "# Normalizasyon \n",
    "### daha verimli bir sonuç almamızı sağlar.\n"
   ]
  },
  {
   "cell_type": "code",
   "execution_count": 9,
   "id": "b41a593a",
   "metadata": {},
   "outputs": [
    {
     "name": "stdout",
     "output_type": "stream",
     "text": [
      "     Chest pain type        BP  Cholesterol  FBS over 120  EKG results  \\\n",
      "0           1.000000  0.339623     0.447489           0.0          1.0   \n",
      "1           0.666667  0.198113     1.000000           0.0          1.0   \n",
      "2           0.333333  0.283019     0.308219           0.0          0.0   \n",
      "3           1.000000  0.320755     0.312785           0.0          0.0   \n",
      "4           0.333333  0.245283     0.326484           0.0          0.0   \n",
      "..               ...       ...          ...           ...          ...   \n",
      "263         0.666667  0.735849     0.166667           1.0          0.0   \n",
      "264         0.333333  0.245283     0.312785           0.0          0.0   \n",
      "265         0.333333  0.433962     0.383562           0.0          1.0   \n",
      "266         1.000000  0.433962     0.150685           0.0          0.0   \n",
      "267         1.000000  0.622642     0.365297           0.0          1.0   \n",
      "\n",
      "       Max HR  Exercise angina  ST depression  Slope of ST  \\\n",
      "0    0.290076              0.0       0.387097          0.5   \n",
      "1    0.679389              0.0       0.258065          0.5   \n",
      "2    0.534351              0.0       0.048387          0.0   \n",
      "3    0.259542              1.0       0.032258          0.5   \n",
      "4    0.381679              1.0       0.032258          0.0   \n",
      "..        ...              ...            ...          ...   \n",
      "263  0.694656              0.0       0.080645          0.0   \n",
      "264  0.778626              0.0       0.000000          0.0   \n",
      "265  0.625954              0.0       0.209677          0.5   \n",
      "266  0.587786              0.0       0.064516          0.5   \n",
      "267  0.282443              1.0       0.241935          0.5   \n",
      "\n",
      "     Number of vessels fluro  Thallium  \n",
      "0                   1.000000      0.00  \n",
      "1                   0.000000      1.00  \n",
      "2                   0.000000      1.00  \n",
      "3                   0.333333      1.00  \n",
      "4                   0.333333      0.00  \n",
      "..                       ...       ...  \n",
      "263                 0.000000      1.00  \n",
      "264                 0.000000      1.00  \n",
      "265                 0.000000      0.00  \n",
      "266                 0.000000      0.75  \n",
      "267                 1.000000      0.00  \n",
      "\n",
      "[268 rows x 11 columns]\n"
     ]
    },
    {
     "name": "stderr",
     "output_type": "stream",
     "text": [
      "C:\\Users\\Work\\OneDrive\\sss\\lib\\site-packages\\numpy\\core\\fromnumeric.py:84: FutureWarning: In a future version, DataFrame.min(axis=None) will return a scalar min over the entire DataFrame. To retain the old behavior, use 'frame.min(axis=0)' or just 'frame.min()'\n",
      "  return reduction(axis=axis, out=out, **passkwargs)\n",
      "C:\\Users\\Work\\OneDrive\\sss\\lib\\site-packages\\numpy\\core\\fromnumeric.py:84: FutureWarning: In a future version, DataFrame.max(axis=None) will return a scalar max over the entire DataFrame. To retain the old behavior, use 'frame.max(axis=0)' or just 'frame.max()'\n",
      "  return reduction(axis=axis, out=out, **passkwargs)\n"
     ]
    }
   ],
   "source": [
    "dfScaler=df.loc[:,'Chest pain type':'Thallium']\n",
    "x=(dfScaler-np.min(dfScaler))/(np.max(dfScaler)-np.min(dfScaler))\n",
    "print(x)"
   ]
  },
  {
   "cell_type": "markdown",
   "id": "c0d8d4e2",
   "metadata": {},
   "source": [
    "## Özellik mühendisliği"
   ]
  },
  {
   "cell_type": "code",
   "execution_count": 10,
   "id": "de596e74",
   "metadata": {},
   "outputs": [
    {
     "name": "stdout",
     "output_type": "stream",
     "text": [
      "     Age  Sex  Heart Disease_Absence  Heart Disease_Presence  Chest pain type  \\\n",
      "0     70    1                      0                       1         1.000000   \n",
      "1     67    0                      1                       0         0.666667   \n",
      "2     57    1                      0                       1         0.333333   \n",
      "3     64    1                      1                       0         1.000000   \n",
      "4     74    0                      1                       0         0.333333   \n",
      "..   ...  ...                    ...                     ...              ...   \n",
      "263   52    1                      1                       0         0.666667   \n",
      "264   44    1                      1                       0         0.333333   \n",
      "265   56    0                      1                       0         0.333333   \n",
      "266   57    1                      1                       0         1.000000   \n",
      "267   67    1                      0                       1         1.000000   \n",
      "\n",
      "           BP  Cholesterol  FBS over 120  EKG results    Max HR  \\\n",
      "0    0.339623     0.447489           0.0          1.0  0.290076   \n",
      "1    0.198113     1.000000           0.0          1.0  0.679389   \n",
      "2    0.283019     0.308219           0.0          0.0  0.534351   \n",
      "3    0.320755     0.312785           0.0          0.0  0.259542   \n",
      "4    0.245283     0.326484           0.0          0.0  0.381679   \n",
      "..        ...          ...           ...          ...       ...   \n",
      "263  0.735849     0.166667           1.0          0.0  0.694656   \n",
      "264  0.245283     0.312785           0.0          0.0  0.778626   \n",
      "265  0.433962     0.383562           0.0          1.0  0.625954   \n",
      "266  0.433962     0.150685           0.0          0.0  0.587786   \n",
      "267  0.622642     0.365297           0.0          1.0  0.282443   \n",
      "\n",
      "     Exercise angina  ST depression  Slope of ST  Number of vessels fluro  \\\n",
      "0                0.0       0.387097          0.5                 1.000000   \n",
      "1                0.0       0.258065          0.5                 0.000000   \n",
      "2                0.0       0.048387          0.0                 0.000000   \n",
      "3                1.0       0.032258          0.5                 0.333333   \n",
      "4                1.0       0.032258          0.0                 0.333333   \n",
      "..               ...            ...          ...                      ...   \n",
      "263              0.0       0.080645          0.0                 0.000000   \n",
      "264              0.0       0.000000          0.0                 0.000000   \n",
      "265              0.0       0.209677          0.5                 0.000000   \n",
      "266              0.0       0.064516          0.5                 0.000000   \n",
      "267              1.0       0.241935          0.5                 1.000000   \n",
      "\n",
      "     Thallium  \n",
      "0        0.00  \n",
      "1        1.00  \n",
      "2        1.00  \n",
      "3        1.00  \n",
      "4        0.00  \n",
      "..        ...  \n",
      "263      1.00  \n",
      "264      1.00  \n",
      "265      0.00  \n",
      "266      0.75  \n",
      "267      0.00  \n",
      "\n",
      "[268 rows x 15 columns]\n"
     ]
    }
   ],
   "source": [
    "dfNew=pd.concat([df.loc[:,[\"Age\",'Sex','Heart Disease_Absence','Heart Disease_Presence']],x],axis=1)\n",
    "print(dfNew)"
   ]
  },
  {
   "cell_type": "code",
   "execution_count": 12,
   "id": "ea01eae6",
   "metadata": {},
   "outputs": [],
   "source": [
    "dfNew.to_csv(\"Heart_Disease_Predictionn.csv\",sep=\";\")\n",
    "df.drop(\"Unnamed: 0\",axis=1,inplace=True)"
   ]
  },
  {
   "cell_type": "markdown",
   "id": "3a36e057",
   "metadata": {},
   "source": [
    "# Regresyon"
   ]
  },
  {
   "cell_type": "markdown",
   "id": "fdbf3e23",
   "metadata": {},
   "source": [
    "## Multiple linear regresyon"
   ]
  },
  {
   "cell_type": "code",
   "execution_count": 13,
   "id": "a893f79c",
   "metadata": {},
   "outputs": [
    {
     "name": "stdout",
     "output_type": "stream",
     "text": [
      "   Unnamed: 0  Age  Sex  Heart Disease_Absence  Heart Disease_Presence  \\\n",
      "0           0   70    1                      0                       1   \n",
      "1           1   67    0                      1                       0   \n",
      "2           2   57    1                      0                       1   \n",
      "3           3   64    1                      1                       0   \n",
      "4           4   74    0                      1                       0   \n",
      "\n",
      "   Chest pain type        BP  Cholesterol  FBS over 120  EKG results  \\\n",
      "0         1.000000  0.339623     0.447489           0.0          1.0   \n",
      "1         0.666667  0.198113     1.000000           0.0          1.0   \n",
      "2         0.333333  0.283019     0.308219           0.0          0.0   \n",
      "3         1.000000  0.320755     0.312785           0.0          0.0   \n",
      "4         0.333333  0.245283     0.326484           0.0          0.0   \n",
      "\n",
      "     Max HR  Exercise angina  ST depression  Slope of ST  \\\n",
      "0  0.290076              0.0       0.387097          0.5   \n",
      "1  0.679389              0.0       0.258065          0.5   \n",
      "2  0.534351              0.0       0.048387          0.0   \n",
      "3  0.259542              1.0       0.032258          0.5   \n",
      "4  0.381679              1.0       0.032258          0.0   \n",
      "\n",
      "   Number of vessels fluro  Thallium  \n",
      "0                 1.000000       0.0  \n",
      "1                 0.000000       1.0  \n",
      "2                 0.000000       1.0  \n",
      "3                 0.333333       1.0  \n",
      "4                 0.333333       0.0  \n"
     ]
    }
   ],
   "source": [
    "import pandas as pd\n",
    "import numpy as np\n",
    "import matplotlib.pyplot as plt\n",
    "from sklearn.linear_model import LinearRegression\n",
    "\n",
    "df=pd.read_csv(\"Heart_Disease_Predictionn.csv\",sep=\";\")\n",
    "print(df.head())"
   ]
  },
  {
   "cell_type": "markdown",
   "id": "e5e1bf6e",
   "metadata": {},
   "source": [
    "mlr=LinearRegression()"
   ]
  },
  {
   "cell_type": "code",
   "execution_count": 16,
   "id": "af7187d4",
   "metadata": {},
   "outputs": [],
   "source": [
    "mlr=LinearRegression()"
   ]
  },
  {
   "cell_type": "code",
   "execution_count": 17,
   "id": "cd1256f7",
   "metadata": {},
   "outputs": [],
   "source": [
    "x = df[['Age', 'Sex', 'Chest pain type', 'BP', 'FBS over 120', 'EKG results', 'Max HR', 'Exercise angina', 'ST depression', 'Slope of ST', 'Number of vessels fluro', 'Thallium']]\n",
    "y = df['Cholesterol']"
   ]
  },
  {
   "cell_type": "code",
   "execution_count": 18,
   "id": "8a92ef0c",
   "metadata": {},
   "outputs": [
    {
     "data": {
      "text/plain": [
       "LinearRegression()"
      ]
     },
     "execution_count": 18,
     "metadata": {},
     "output_type": "execute_result"
    }
   ],
   "source": [
    "mlr.fit(x,y)"
   ]
  },
  {
   "cell_type": "markdown",
   "id": "d53d3a25",
   "metadata": {},
   "source": [
    "# b0 b1 bulması"
   ]
  },
  {
   "cell_type": "code",
   "execution_count": 19,
   "id": "c00dd53e",
   "metadata": {},
   "outputs": [
    {
     "name": "stdout",
     "output_type": "stream",
     "text": [
      "0.09367220950345437 [ 0.00226773 -0.05714649  0.01441118  0.06088249 -0.00631731  0.0360494\n",
      "  0.07235041  0.02338217 -0.01953946 -0.0220531   0.02097162  0.02177408]\n"
     ]
    }
   ],
   "source": [
    "print(mlr.intercept_,mlr.coef_)"
   ]
  },
  {
   "cell_type": "code",
   "execution_count": 20,
   "id": "bea878a6",
   "metadata": {},
   "outputs": [
    {
     "name": "stdout",
     "output_type": "stream",
     "text": [
      "Multiple Linear Regression:\n",
      "mlr r2: 0.14212682168929558\n",
      "mlr mae: 0.08162775188986587\n",
      "mlr mse: 0.011913985993534387\n",
      "mlr mape: 4801189557474.9795\n"
     ]
    }
   ],
   "source": [
    "from sklearn.metrics import r2_score,mean_absolute_error,mean_absolute_percentage_error,mean_squared_error\n",
    "\n",
    "mlr_pred=mlr.predict(x)\n",
    "print(\"Multiple Linear Regression:\")\n",
    "print(\"mlr r2:\",r2_score(y,mlr_pred))\n",
    "print(\"mlr mae:\",mean_absolute_error(y,mlr_pred))\n",
    "print(\"mlr mse:\",mean_squared_error(y,mlr_pred))\n",
    "print(\"mlr mape:\",mean_absolute_percentage_error(y,mlr_pred))"
   ]
  },
  {
   "cell_type": "markdown",
   "id": "1ef87efd",
   "metadata": {},
   "source": [
    "## Polynominal linear regresyon"
   ]
  },
  {
   "cell_type": "code",
   "execution_count": 21,
   "id": "cd8abc58",
   "metadata": {},
   "outputs": [
    {
     "data": {
      "text/plain": [
       "LinearRegression()"
      ]
     },
     "execution_count": 21,
     "metadata": {},
     "output_type": "execute_result"
    }
   ],
   "source": [
    "from sklearn.preprocessing import PolynomialFeatures\n",
    "plr=PolynomialFeatures(degree=3)\n",
    "\n",
    "x_pol=plr.fit_transform(x)\n",
    "lr_pol=LinearRegression()\n",
    "lr_pol.fit(x_pol,y)"
   ]
  },
  {
   "cell_type": "code",
   "execution_count": 22,
   "id": "31c28591",
   "metadata": {},
   "outputs": [
    {
     "name": "stdout",
     "output_type": "stream",
     "text": [
      " Polynominal linear regresyon:\n",
      "pol r2: 1.0\n",
      "pol mae: 2.4235836725772562e-11\n",
      "pol mse: 1.020618406197709e-21\n",
      "pol mape: 238.95522388069878\n"
     ]
    }
   ],
   "source": [
    "pol_pred=lr_pol.predict(x_pol)\n",
    "print(\" Polynominal linear regresyon:\")\n",
    "print(\"pol r2:\",r2_score(y,pol_pred))\n",
    "print(\"pol mae:\",mean_absolute_error(y,pol_pred))\n",
    "print(\"pol mse:\",mean_squared_error(y,pol_pred))\n",
    "print(\"pol mape:\",mean_absolute_percentage_error(y,pol_pred))\n"
   ]
  },
  {
   "cell_type": "markdown",
   "id": "e1ace1ab",
   "metadata": {},
   "source": [
    "## Decision tree\n",
    " * Tahmin yaparken, bu ağaçı kullanarak sonuca ulaşır."
   ]
  },
  {
   "cell_type": "code",
   "execution_count": 23,
   "id": "eeadcd67",
   "metadata": {},
   "outputs": [],
   "source": [
    "import pandas as pd\n",
    "import numpy as np\n",
    "from sklearn.tree import DecisionTreeRegressor\n",
    "from sklearn.metrics import r2_score,mean_absolute_error,mean_squared_error\n",
    "\n",
    "df=pd.read_csv(\"Heart_Disease_Predictionn.csv\",sep=\";\")\n",
    "\n",
    "x = df[['Age', 'Sex', 'Chest pain type', 'BP', 'FBS over 120', 'EKG results', 'Max HR', 'Exercise angina', 'ST depression', 'Slope of ST', 'Number of vessels fluro', 'Thallium']]\n",
    "y = df['Cholesterol']"
   ]
  },
  {
   "cell_type": "code",
   "execution_count": 24,
   "id": "ebe844ea",
   "metadata": {},
   "outputs": [
    {
     "name": "stdout",
     "output_type": "stream",
     "text": [
      "Decision Tree Regression:\n",
      "tree r2: 1.0\n",
      "tree mae: 0.0\n",
      "tree mse: 0.0\n",
      "tree mape: 0.0\n"
     ]
    }
   ],
   "source": [
    "tree_reg=DecisionTreeRegressor()\n",
    "tree_reg.fit(x,y)\n",
    "\n",
    "tree_pred=tree_reg.predict(x)\n",
    "print(\"Decision Tree Regression:\")\n",
    "print(\"tree r2:\",r2_score(y,tree_pred))\n",
    "print(\"tree mae:\",mean_absolute_error(y,tree_pred))\n",
    "print(\"tree mse:\",mean_squared_error(y,tree_pred))\n",
    "print(\"tree mape:\",mean_absolute_percentage_error(y,tree_pred))"
   ]
  },
  {
   "cell_type": "markdown",
   "id": "afe677a6",
   "metadata": {},
   "source": [
    "## Random forest\n",
    "\n",
    "* birden fazla karar ağacını kullanarak daha uyumlu modeller üreterek isabetli tahminlerde bulunmaya yarayan bir regresyon modelidir"
   ]
  },
  {
   "cell_type": "code",
   "execution_count": 25,
   "id": "326fa151",
   "metadata": {},
   "outputs": [
    {
     "name": "stdout",
     "output_type": "stream",
     "text": [
      " Random Forest Regression:\n",
      "rf r2: 0.868605951622678\n",
      "rf mae: 0.03352220064063248\n",
      "rf mse: 0.0018247765422434365\n",
      "rf mape: 1433368108759.1157\n"
     ]
    }
   ],
   "source": [
    "from sklearn.ensemble import RandomForestRegressor\n",
    "\n",
    "rf=RandomForestRegressor(n_estimators=100,random_state=42)\n",
    "rf.fit(x,y)\n",
    "rf_pred=rf.predict(x)\n",
    "print(\" Random Forest Regression:\")\n",
    "print(\"rf r2:\",r2_score(y,rf_pred))\n",
    "print(\"rf mae:\",mean_absolute_error(y,rf_pred))\n",
    "print(\"rf mse:\",mean_squared_error(y,rf_pred))\n",
    "print(\"rf mape:\",mean_absolute_percentage_error(y,rf_pred))"
   ]
  },
  {
   "cell_type": "markdown",
   "id": "5b0b9a2b",
   "metadata": {},
   "source": [
    "## Train test split\n",
    "* Belirli probleme ait veriyi makineye öğretmek (train), ne kadar doğru öğrendiğini skorlamak (test) ve seçilen algoritma doğrultusunda daha önce görmediği veri girdi olarak verildiğinde çıktısının ne olacağını en yüksek doğruluk ile tahmin ettirebiliriz."
   ]
  },
  {
   "cell_type": "code",
   "execution_count": 26,
   "id": "92af5bc8",
   "metadata": {},
   "outputs": [],
   "source": [
    "from sklearn.model_selection import train_test_split\n",
    "x_train,x_test,y_train,y_test=train_test_split(x,y,test_size=0.1,random_state=42)\n",
    "\n",
    "\n",
    "mlr=LinearRegression()\n",
    "mlr.fit(x_train,y_train)\n",
    "mlr_pred=mlr.predict(x_test)\n",
    "\n",
    "dt=DecisionTreeRegressor()\n",
    "dt.fit(x_train,y_train)\n",
    "dt_pred=dt.predict(x_test)\n",
    "\n",
    "rf=RandomForestRegressor(n_estimators=100,random_state=42)\n",
    "rf.fit(x_train,y_train)\n",
    "rf_pred=rf.predict(x_test)"
   ]
  },
  {
   "cell_type": "code",
   "execution_count": 27,
   "id": "62f9115d",
   "metadata": {},
   "outputs": [
    {
     "name": "stdout",
     "output_type": "stream",
     "text": [
      "mlr: r2: 0.028189644251900847 mae: 0.07015163131951457\n",
      "dt: r2: -1.2552091112770731 mae: 0.12421782513106712\n",
      "rf: r2: 0.08475053024645318 mae: 0.06891425672247588\n"
     ]
    }
   ],
   "source": [
    "from sklearn.metrics import r2_score,mean_absolute_error,mean_squared_error\n",
    "print(\"mlr:\",\"r2:\",r2_score(y_test,mlr_pred),\"mae:\",mean_absolute_error(y_test,mlr_pred))\n",
    "print(\"dt:\",\"r2:\",r2_score(y_test,dt_pred),\"mae:\",mean_absolute_error(y_test,dt_pred))\n",
    "print(\"rf:\",\"r2:\",r2_score(y_test,rf_pred),\"mae:\",mean_absolute_error(y_test,rf_pred))"
   ]
  },
  {
   "cell_type": "markdown",
   "id": "20ea532e",
   "metadata": {},
   "source": [
    "# yorum:\n",
    "* MSE değeri modelin ortalama kare hatasıdır.Ne kadar az o kadar iyi.\n",
    "* RMSE=Kök ortalama kare hata\n",
    "* Bu değerler gösteriyor ki düşük bir MSE değeri modelin gerçek değerlere ne kadar yakın tahmin yaptığını gösterir.\n",
    "* r2_score, modelin bağımsız değişkenlerinin varyansının."
   ]
  }
 ],
 "metadata": {
  "kernelspec": {
   "display_name": "Python 3 (ipykernel)",
   "language": "python",
   "name": "python3"
  },
  "language_info": {
   "codemirror_mode": {
    "name": "ipython",
    "version": 3
   },
   "file_extension": ".py",
   "mimetype": "text/x-python",
   "name": "python",
   "nbconvert_exporter": "python",
   "pygments_lexer": "ipython3",
   "version": "3.9.12"
  }
 },
 "nbformat": 4,
 "nbformat_minor": 5
}
