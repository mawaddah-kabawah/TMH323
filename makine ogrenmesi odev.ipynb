{
 "cells": [
  {
   "cell_type": "markdown",
   "id": "080186d7",
   "metadata": {},
   "source": [
    "# Makine öğrenmesi odevi 2023-2024\n",
    "### Öğrenci adı: mawaddah kabawah \n",
    "### Öğrenci numara: 2010235510"
   ]
  },
  {
   "cell_type": "markdown",
   "id": "d1835611",
   "metadata": {},
   "source": [
    "# konu: kalp hastalığı verisitesi "
   ]
  },
  {
   "cell_type": "markdown",
   "id": "804866ee",
   "metadata": {},
   "source": [
    "* index                     \n",
    "* Age                       \n",
    "* Sex                       \n",
    "* Chest pain type >>\tThe type of chest pain experienced by the patient.          \n",
    "* BP >> The blood pressure level of the patient.                  \n",
    "* Cholesterol  >> The cholesterol level of the patient           \n",
    "* FBS over 120 >>  The fasting blood sugar test results over 120 mg/d.         \n",
    "* EKG results  >> The electrocardiogram results of the patient.\n",
    "* Max HR  >> The maximum heart rate levels achieved during exercise testing.               \n",
    "* Exercise angina >> The angina experienced during exercise testing.         \n",
    "* ST depression >> The ST depression on an Electrocardiogram.\n",
    "* Slope of ST   >> The slope of ST segment electrocardiogram readings.          \n",
    "* Number of vessels fluro >> The amount vessels seen in Fluoroscopy images.   \n",
    "* Thallium >> The Thallium Stress test findings.                \n",
    "* Heart Disease >> Whether or not the patient has been diagnosed with Heart Disease.           "
   ]
  },
  {
   "cell_type": "markdown",
   "id": "74e5638a",
   "metadata": {},
   "source": [
    "# Veri hazırlık süreci\n",
    "\n",
    "\n",
    "\n",
    "## Genel bakış atıyoruz ve varsa gereksiz bilgileri tespit ederiz."
   ]
  },
  {
   "cell_type": "code",
   "execution_count": 162,
   "id": "2221e5b3",
   "metadata": {},
   "outputs": [
    {
     "name": "stdout",
     "output_type": "stream",
     "text": [
      "   index   Age  Sex  Chest pain type   BP  Cholesterol  FBS over 120  \\\n",
      "0      0  70.0    1                4  130          322             0   \n",
      "1      1  67.0    0                3  115          564             0   \n",
      "2      2  57.0    1                2  124          261             0   \n",
      "3      3  64.0    1                4  128          263             0   \n",
      "4      4  74.0    0                2  120          269             0   \n",
      "\n",
      "   EKG results  Max HR  Exercise angina  ST depression  Slope of ST  \\\n",
      "0            2     109                0            2.4            2   \n",
      "1            2     160                0            1.6            2   \n",
      "2            0     141                0            0.3            1   \n",
      "3            0     105                1            0.2            2   \n",
      "4            0     121                1            0.2            1   \n",
      "\n",
      "   Number of vessels fluro  Thallium Heart Disease  \n",
      "0                        3         3      Presence  \n",
      "1                        0         7       Absence  \n",
      "2                        0         7      Presence  \n",
      "3                        1         7       Absence  \n",
      "4                        1         3       Absence  \n"
     ]
    }
   ],
   "source": [
    "import pandas as pd\n",
    "import numpy as np\n",
    "\n",
    "df=pd.read_csv(\"Heart_Disease_Predictionn.csv\",sep=\";\")\n",
    "print(df.head())"
   ]
  },
  {
   "cell_type": "code",
   "execution_count": 163,
   "id": "e01efec5",
   "metadata": {},
   "outputs": [
    {
     "name": "stdout",
     "output_type": "stream",
     "text": [
      "<class 'pandas.core.frame.DataFrame'>\n",
      "RangeIndex: 270 entries, 0 to 269\n",
      "Data columns (total 15 columns):\n",
      " #   Column                   Non-Null Count  Dtype  \n",
      "---  ------                   --------------  -----  \n",
      " 0   index                    270 non-null    int64  \n",
      " 1   Age                      268 non-null    float64\n",
      " 2   Sex                      270 non-null    int64  \n",
      " 3   Chest pain type          270 non-null    int64  \n",
      " 4   BP                       270 non-null    int64  \n",
      " 5   Cholesterol              270 non-null    int64  \n",
      " 6   FBS over 120             270 non-null    int64  \n",
      " 7   EKG results              270 non-null    int64  \n",
      " 8   Max HR                   270 non-null    int64  \n",
      " 9   Exercise angina          270 non-null    int64  \n",
      " 10  ST depression            270 non-null    float64\n",
      " 11  Slope of ST              270 non-null    int64  \n",
      " 12  Number of vessels fluro  270 non-null    int64  \n",
      " 13  Thallium                 270 non-null    int64  \n",
      " 14  Heart Disease            270 non-null    object \n",
      "dtypes: float64(2), int64(12), object(1)\n",
      "memory usage: 31.8+ KB\n",
      "None\n"
     ]
    }
   ],
   "source": [
    "print(df.info())"
   ]
  },
  {
   "cell_type": "code",
   "execution_count": 164,
   "id": "e538d348",
   "metadata": {},
   "outputs": [
    {
     "data": {
      "image/png": "[encoded data removed]",
      "text/plain": [
       "<Figure size 432x288 with 1 Axes>"
      ]
     },
     "metadata": {
      "needs_background": "light"
     },
     "output_type": "display_data"
    },
    {
     "data": {
      "image/png": "[encoded data removed]",
      "text/plain": [
       "<Figure size 432x288 with 1 Axes>"
      ]
     },
     "metadata": {
      "needs_background": "light"
     },
     "output_type": "display_data"
    }
   ],
   "source": [
    "plt.hist(dfNew['Heart Disease_Presence'],color='blue',bins =15)\n",
    "plt.title(\"Heart Disease_Presence\")\n",
    "plt.xlabel(\"Presence or not\")\n",
    "plt.ylabel(\"number of patient\")\n",
    "plt.grid(alpha=0.5)\n",
    "plt.show()\n",
    "\n",
    "\n",
    "plt.hist(dfNew['Cholesterol'],color='red',bins = 50)\n",
    "plt.title(\"Cholesterol \")\n",
    "plt.tick_params(axis='x', rotation=90)\n",
    "plt.xlabel(\"Cholesterol\")\n",
    "plt.ylabel(\"how much\")\n",
    "plt.show()"
   ]
  },
  {
   "cell_type": "markdown",
   "id": "50adb633",
   "metadata": {},
   "source": [
    "## Özellik seçimi\n",
    " \n",
    "### 'index' gereksiz görünüyor."
   ]
  },
  {
   "cell_type": "code",
   "execution_count": 165,
   "id": "66626ade",
   "metadata": {},
   "outputs": [],
   "source": [
    "df.drop(\"index\",axis=1,inplace=True)"
   ]
  },
  {
   "cell_type": "code",
   "execution_count": 166,
   "id": "65d4aeb8",
   "metadata": {},
   "outputs": [
    {
     "name": "stdout",
     "output_type": "stream",
     "text": [
      "      Age  Sex  Chest pain type   BP  Cholesterol  FBS over 120  EKG results  \\\n",
      "0    70.0    1                4  130          322             0            2   \n",
      "1    67.0    0                3  115          564             0            2   \n",
      "2    57.0    1                2  124          261             0            0   \n",
      "3    64.0    1                4  128          263             0            0   \n",
      "4    74.0    0                2  120          269             0            0   \n",
      "..    ...  ...              ...  ...          ...           ...          ...   \n",
      "265  52.0    1                3  172          199             1            0   \n",
      "266  44.0    1                2  120          263             0            0   \n",
      "267  56.0    0                2  140          294             0            2   \n",
      "268  57.0    1                4  140          192             0            0   \n",
      "269  67.0    1                4  160          286             0            2   \n",
      "\n",
      "     Max HR  Exercise angina  ST depression  Slope of ST  \\\n",
      "0       109                0            2.4            2   \n",
      "1       160                0            1.6            2   \n",
      "2       141                0            0.3            1   \n",
      "3       105                1            0.2            2   \n",
      "4       121                1            0.2            1   \n",
      "..      ...              ...            ...          ...   \n",
      "265     162                0            0.5            1   \n",
      "266     173                0            0.0            1   \n",
      "267     153                0            1.3            2   \n",
      "268     148                0            0.4            2   \n",
      "269     108                1            1.5            2   \n",
      "\n",
      "     Number of vessels fluro  Thallium Heart Disease  \n",
      "0                          3         3      Presence  \n",
      "1                          0         7       Absence  \n",
      "2                          0         7      Presence  \n",
      "3                          1         7       Absence  \n",
      "4                          1         3       Absence  \n",
      "..                       ...       ...           ...  \n",
      "265                        0         7       Absence  \n",
      "266                        0         7       Absence  \n",
      "267                        0         3       Absence  \n",
      "268                        0         6       Absence  \n",
      "269                        3         3      Presence  \n",
      "\n",
      "[270 rows x 14 columns]\n"
     ]
    }
   ],
   "source": [
    "print(df)"
   ]
  },
  {
   "cell_type": "markdown",
   "id": "89b2e938",
   "metadata": {},
   "source": [
    "# Veri temizliği ve dönüşümü\n",
    "## Kayıp verilerin tespiti ve dönüşümü"
   ]
  },
  {
   "cell_type": "code",
   "execution_count": 167,
   "id": "4a3049c7",
   "metadata": {},
   "outputs": [
    {
     "name": "stdout",
     "output_type": "stream",
     "text": [
      "0      70.0\n",
      "1      67.0\n",
      "2      57.0\n",
      "3      64.0\n",
      "4      74.0\n",
      "       ... \n",
      "265    52.0\n",
      "266    44.0\n",
      "267    56.0\n",
      "268    57.0\n",
      "269    67.0\n",
      "Name: Age, Length: 270, dtype: float64\n",
      "0      False\n",
      "1      False\n",
      "2      False\n",
      "3      False\n",
      "4      False\n",
      "       ...  \n",
      "265    False\n",
      "266    False\n",
      "267    False\n",
      "268    False\n",
      "269    False\n",
      "Name: Age, Length: 270, dtype: bool\n"
     ]
    }
   ],
   "source": [
    "print(df[\"Age\"])\n",
    "print(df[\"Age\"].isnull())"
   ]
  },
  {
   "cell_type": "code",
   "execution_count": 168,
   "id": "43cf8fd5",
   "metadata": {},
   "outputs": [
    {
     "name": "stdout",
     "output_type": "stream",
     "text": [
      "Age                        2\n",
      "Sex                        0\n",
      "Chest pain type            0\n",
      "BP                         0\n",
      "Cholesterol                0\n",
      "FBS over 120               0\n",
      "EKG results                0\n",
      "Max HR                     0\n",
      "Exercise angina            0\n",
      "ST depression              0\n",
      "Slope of ST                0\n",
      "Number of vessels fluro    0\n",
      "Thallium                   0\n",
      "Heart Disease              0\n",
      "dtype: int64\n"
     ]
    }
   ],
   "source": [
    "print(df.isnull().sum())"
   ]
  },
  {
   "cell_type": "code",
   "execution_count": 169,
   "id": "bd635987",
   "metadata": {},
   "outputs": [
    {
     "name": "stdout",
     "output_type": "stream",
     "text": [
      "2\n"
     ]
    }
   ],
   "source": [
    "print(df.isnull().sum().sum())"
   ]
  },
  {
   "cell_type": "code",
   "execution_count": 170,
   "id": "765a304e",
   "metadata": {},
   "outputs": [
    {
     "name": "stdout",
     "output_type": "stream",
     "text": [
      "      Age  Sex  Chest pain type   BP  Cholesterol  FBS over 120  EKG results  \\\n",
      "0    70.0    1                4  130          322             0            2   \n",
      "1    67.0    0                3  115          564             0            2   \n",
      "2    57.0    1                2  124          261             0            0   \n",
      "3    64.0    1                4  128          263             0            0   \n",
      "4    74.0    0                2  120          269             0            0   \n",
      "..    ...  ...              ...  ...          ...           ...          ...   \n",
      "265  52.0    1                3  172          199             1            0   \n",
      "266  44.0    1                2  120          263             0            0   \n",
      "267  56.0    0                2  140          294             0            2   \n",
      "268  57.0    1                4  140          192             0            0   \n",
      "269  67.0    1                4  160          286             0            2   \n",
      "\n",
      "     Max HR  Exercise angina  ST depression  Slope of ST  \\\n",
      "0       109                0            2.4            2   \n",
      "1       160                0            1.6            2   \n",
      "2       141                0            0.3            1   \n",
      "3       105                1            0.2            2   \n",
      "4       121                1            0.2            1   \n",
      "..      ...              ...            ...          ...   \n",
      "265     162                0            0.5            1   \n",
      "266     173                0            0.0            1   \n",
      "267     153                0            1.3            2   \n",
      "268     148                0            0.4            2   \n",
      "269     108                1            1.5            2   \n",
      "\n",
      "     Number of vessels fluro  Thallium Heart Disease  \n",
      "0                          3         3      Presence  \n",
      "1                          0         7       Absence  \n",
      "2                          0         7      Presence  \n",
      "3                          1         7       Absence  \n",
      "4                          1         3       Absence  \n",
      "..                       ...       ...           ...  \n",
      "265                        0         7       Absence  \n",
      "266                        0         7       Absence  \n",
      "267                        0         3       Absence  \n",
      "268                        0         6       Absence  \n",
      "269                        3         3      Presence  \n",
      "\n",
      "[268 rows x 14 columns]\n"
     ]
    }
   ],
   "source": [
    "df.dropna(inplace=True)\n",
    "print(df)"
   ]
  },
  {
   "cell_type": "code",
   "execution_count": 171,
   "id": "9d371088",
   "metadata": {},
   "outputs": [
    {
     "name": "stdout",
     "output_type": "stream",
     "text": [
      "0\n"
     ]
    }
   ],
   "source": [
    "print(df.isnull().sum().sum())"
   ]
  },
  {
   "cell_type": "markdown",
   "id": "544cf42e",
   "metadata": {},
   "source": [
    "## Veri tiplerinin dönüşümü \n",
    "### 'Age' int Olması gerekiyor"
   ]
  },
  {
   "cell_type": "code",
   "execution_count": 172,
   "id": "29870fd2",
   "metadata": {},
   "outputs": [
    {
     "name": "stdout",
     "output_type": "stream",
     "text": [
      "Age                        float64\n",
      "Sex                          int64\n",
      "Chest pain type              int64\n",
      "BP                           int64\n",
      "Cholesterol                  int64\n",
      "FBS over 120                 int64\n",
      "EKG results                  int64\n",
      "Max HR                       int64\n",
      "Exercise angina              int64\n",
      "ST depression              float64\n",
      "Slope of ST                  int64\n",
      "Number of vessels fluro      int64\n",
      "Thallium                     int64\n",
      "Heart Disease               object\n",
      "dtype: object\n",
      "Age                          int32\n",
      "Sex                          int64\n",
      "Chest pain type              int64\n",
      "BP                           int64\n",
      "Cholesterol                  int64\n",
      "FBS over 120                 int64\n",
      "EKG results                  int64\n",
      "Max HR                       int64\n",
      "Exercise angina              int64\n",
      "ST depression              float64\n",
      "Slope of ST                  int64\n",
      "Number of vessels fluro      int64\n",
      "Thallium                     int64\n",
      "Heart Disease               object\n",
      "dtype: object\n"
     ]
    }
   ],
   "source": [
    "print(df.dtypes)\n",
    "\n",
    "\n",
    "donusum={\"Age\":int}\n",
    "\n",
    "df=df.astype(donusum)\n",
    "print(df.dtypes)"
   ]
  },
  {
   "cell_type": "markdown",
   "id": "e119def9",
   "metadata": {},
   "source": [
    "## Tekrarlayan verilerin kaldırılması"
   ]
  },
  {
   "cell_type": "code",
   "execution_count": 173,
   "id": "46011b08",
   "metadata": {},
   "outputs": [
    {
     "name": "stdout",
     "output_type": "stream",
     "text": [
      "0      False\n",
      "1      False\n",
      "2      False\n",
      "3      False\n",
      "4      False\n",
      "       ...  \n",
      "265    False\n",
      "266    False\n",
      "267    False\n",
      "268    False\n",
      "269    False\n",
      "Length: 268, dtype: bool\n"
     ]
    }
   ],
   "source": [
    "print(df.duplicated())"
   ]
  },
  {
   "cell_type": "code",
   "execution_count": 174,
   "id": "b1d516ac",
   "metadata": {},
   "outputs": [
    {
     "name": "stdout",
     "output_type": "stream",
     "text": [
      "Empty DataFrame\n",
      "Columns: [Age, Sex, Chest pain type, BP, Cholesterol, FBS over 120, EKG results, Max HR, Exercise angina, ST depression, Slope of ST, Number of vessels fluro, Thallium, Heart Disease]\n",
      "Index: []\n"
     ]
    }
   ],
   "source": [
    "print(df[df.duplicated()])"
   ]
  },
  {
   "cell_type": "markdown",
   "id": "9ae81b28",
   "metadata": {},
   "source": [
    "## Kategorik verilerin dönüşümü\n",
    "### Heart disease kategorik veri"
   ]
  },
  {
   "cell_type": "code",
   "execution_count": 175,
   "id": "1222915a",
   "metadata": {
    "scrolled": true
   },
   "outputs": [
    {
     "name": "stdout",
     "output_type": "stream",
     "text": [
      "     Age  Sex  Chest pain type   BP  Cholesterol  FBS over 120  EKG results  \\\n",
      "0     70    1                4  130          322             0            2   \n",
      "1     67    0                3  115          564             0            2   \n",
      "2     57    1                2  124          261             0            0   \n",
      "3     64    1                4  128          263             0            0   \n",
      "4     74    0                2  120          269             0            0   \n",
      "..   ...  ...              ...  ...          ...           ...          ...   \n",
      "265   52    1                3  172          199             1            0   \n",
      "266   44    1                2  120          263             0            0   \n",
      "267   56    0                2  140          294             0            2   \n",
      "268   57    1                4  140          192             0            0   \n",
      "269   67    1                4  160          286             0            2   \n",
      "\n",
      "     Max HR  Exercise angina  ST depression  Slope of ST  \\\n",
      "0       109                0            2.4            2   \n",
      "1       160                0            1.6            2   \n",
      "2       141                0            0.3            1   \n",
      "3       105                1            0.2            2   \n",
      "4       121                1            0.2            1   \n",
      "..      ...              ...            ...          ...   \n",
      "265     162                0            0.5            1   \n",
      "266     173                0            0.0            1   \n",
      "267     153                0            1.3            2   \n",
      "268     148                0            0.4            2   \n",
      "269     108                1            1.5            2   \n",
      "\n",
      "     Number of vessels fluro  Thallium  Heart Disease_Absence  \\\n",
      "0                          3         3                      0   \n",
      "1                          0         7                      1   \n",
      "2                          0         7                      0   \n",
      "3                          1         7                      1   \n",
      "4                          1         3                      1   \n",
      "..                       ...       ...                    ...   \n",
      "265                        0         7                      1   \n",
      "266                        0         7                      1   \n",
      "267                        0         3                      1   \n",
      "268                        0         6                      1   \n",
      "269                        3         3                      0   \n",
      "\n",
      "     Heart Disease_Presence  \n",
      "0                         1  \n",
      "1                         0  \n",
      "2                         1  \n",
      "3                         0  \n",
      "4                         0  \n",
      "..                      ...  \n",
      "265                       0  \n",
      "266                       0  \n",
      "267                       0  \n",
      "268                       0  \n",
      "269                       1  \n",
      "\n",
      "[268 rows x 15 columns]\n"
     ]
    }
   ],
   "source": [
    "df=pd.get_dummies(df,columns=[\"Heart Disease\"])\n",
    "print(df)"
   ]
  },
  {
   "cell_type": "code",
   "execution_count": 176,
   "id": "3ddb2422",
   "metadata": {},
   "outputs": [
    {
     "name": "stdout",
     "output_type": "stream",
     "text": [
      "<class 'pandas.core.frame.DataFrame'>\n",
      "Int64Index: 268 entries, 0 to 269\n",
      "Data columns (total 15 columns):\n",
      " #   Column                   Non-Null Count  Dtype  \n",
      "---  ------                   --------------  -----  \n",
      " 0   Age                      268 non-null    int32  \n",
      " 1   Sex                      268 non-null    int64  \n",
      " 2   Chest pain type          268 non-null    int64  \n",
      " 3   BP                       268 non-null    int64  \n",
      " 4   Cholesterol              268 non-null    int64  \n",
      " 5   FBS over 120             268 non-null    int64  \n",
      " 6   EKG results              268 non-null    int64  \n",
      " 7   Max HR                   268 non-null    int64  \n",
      " 8   Exercise angina          268 non-null    int64  \n",
      " 9   ST depression            268 non-null    float64\n",
      " 10  Slope of ST              268 non-null    int64  \n",
      " 11  Number of vessels fluro  268 non-null    int64  \n",
      " 12  Thallium                 268 non-null    int64  \n",
      " 13  Heart Disease_Absence    268 non-null    uint8  \n",
      " 14  Heart Disease_Presence   268 non-null    uint8  \n",
      "dtypes: float64(1), int32(1), int64(11), uint8(2)\n",
      "memory usage: 28.8 KB\n",
      "None\n"
     ]
    }
   ],
   "source": [
    "print(df.info())"
   ]
  },
  {
   "cell_type": "code",
   "execution_count": 177,
   "id": "112c1c85",
   "metadata": {},
   "outputs": [
    {
     "name": "stdout",
     "output_type": "stream",
     "text": [
      "     Age  Sex  Chest pain type   BP  Cholesterol  FBS over 120  EKG results  \\\n",
      "0     70    1                4  130          322             0            2   \n",
      "1     67    0                3  115          564             0            2   \n",
      "2     57    1                2  124          261             0            0   \n",
      "3     64    1                4  128          263             0            0   \n",
      "4     74    0                2  120          269             0            0   \n",
      "..   ...  ...              ...  ...          ...           ...          ...   \n",
      "263   52    1                3  172          199             1            0   \n",
      "264   44    1                2  120          263             0            0   \n",
      "265   56    0                2  140          294             0            2   \n",
      "266   57    1                4  140          192             0            0   \n",
      "267   67    1                4  160          286             0            2   \n",
      "\n",
      "     Max HR  Exercise angina  ST depression  Slope of ST  \\\n",
      "0       109                0            2.4            2   \n",
      "1       160                0            1.6            2   \n",
      "2       141                0            0.3            1   \n",
      "3       105                1            0.2            2   \n",
      "4       121                1            0.2            1   \n",
      "..      ...              ...            ...          ...   \n",
      "263     162                0            0.5            1   \n",
      "264     173                0            0.0            1   \n",
      "265     153                0            1.3            2   \n",
      "266     148                0            0.4            2   \n",
      "267     108                1            1.5            2   \n",
      "\n",
      "     Number of vessels fluro  Thallium  Heart Disease_Absence  \\\n",
      "0                          3         3                      0   \n",
      "1                          0         7                      1   \n",
      "2                          0         7                      0   \n",
      "3                          1         7                      1   \n",
      "4                          1         3                      1   \n",
      "..                       ...       ...                    ...   \n",
      "263                        0         7                      1   \n",
      "264                        0         7                      1   \n",
      "265                        0         3                      1   \n",
      "266                        0         6                      1   \n",
      "267                        3         3                      0   \n",
      "\n",
      "     Heart Disease_Presence  \n",
      "0                         1  \n",
      "1                         0  \n",
      "2                         1  \n",
      "3                         0  \n",
      "4                         0  \n",
      "..                      ...  \n",
      "263                       0  \n",
      "264                       0  \n",
      "265                       0  \n",
      "266                       0  \n",
      "267                       1  \n",
      "\n",
      "[268 rows x 15 columns]\n"
     ]
    }
   ],
   "source": [
    "df.reset_index(inplace=True,drop=True)\n",
    "print(df)"
   ]
  },
  {
   "cell_type": "markdown",
   "id": "1ab57f4b",
   "metadata": {},
   "source": [
    "# Normalizasyon \n",
    "### daha verimli bir sonuç almamızı sağlar.\n"
   ]
  },
  {
   "cell_type": "code",
   "execution_count": 178,
   "id": "b41a593a",
   "metadata": {},
   "outputs": [
    {
     "name": "stdout",
     "output_type": "stream",
     "text": [
      "     Chest pain type        BP  Cholesterol  FBS over 120  EKG results  \\\n",
      "0           1.000000  0.339623     0.447489           0.0          1.0   \n",
      "1           0.666667  0.198113     1.000000           0.0          1.0   \n",
      "2           0.333333  0.283019     0.308219           0.0          0.0   \n",
      "3           1.000000  0.320755     0.312785           0.0          0.0   \n",
      "4           0.333333  0.245283     0.326484           0.0          0.0   \n",
      "..               ...       ...          ...           ...          ...   \n",
      "263         0.666667  0.735849     0.166667           1.0          0.0   \n",
      "264         0.333333  0.245283     0.312785           0.0          0.0   \n",
      "265         0.333333  0.433962     0.383562           0.0          1.0   \n",
      "266         1.000000  0.433962     0.150685           0.0          0.0   \n",
      "267         1.000000  0.622642     0.365297           0.0          1.0   \n",
      "\n",
      "       Max HR  Exercise angina  ST depression  Slope of ST  \\\n",
      "0    0.290076              0.0       0.387097          0.5   \n",
      "1    0.679389              0.0       0.258065          0.5   \n",
      "2    0.534351              0.0       0.048387          0.0   \n",
      "3    0.259542              1.0       0.032258          0.5   \n",
      "4    0.381679              1.0       0.032258          0.0   \n",
      "..        ...              ...            ...          ...   \n",
      "263  0.694656              0.0       0.080645          0.0   \n",
      "264  0.778626              0.0       0.000000          0.0   \n",
      "265  0.625954              0.0       0.209677          0.5   \n",
      "266  0.587786              0.0       0.064516          0.5   \n",
      "267  0.282443              1.0       0.241935          0.5   \n",
      "\n",
      "     Number of vessels fluro  Thallium  \n",
      "0                   1.000000      0.00  \n",
      "1                   0.000000      1.00  \n",
      "2                   0.000000      1.00  \n",
      "3                   0.333333      1.00  \n",
      "4                   0.333333      0.00  \n",
      "..                       ...       ...  \n",
      "263                 0.000000      1.00  \n",
      "264                 0.000000      1.00  \n",
      "265                 0.000000      0.00  \n",
      "266                 0.000000      0.75  \n",
      "267                 1.000000      0.00  \n",
      "\n",
      "[268 rows x 11 columns]\n"
     ]
    },
    {
     "name": "stderr",
     "output_type": "stream",
     "text": [
      "C:\\Users\\Work\\OneDrive\\sss\\lib\\site-packages\\numpy\\core\\fromnumeric.py:84: FutureWarning: In a future version, DataFrame.min(axis=None) will return a scalar min over the entire DataFrame. To retain the old behavior, use 'frame.min(axis=0)' or just 'frame.min()'\n",
      "  return reduction(axis=axis, out=out, **passkwargs)\n",
      "C:\\Users\\Work\\OneDrive\\sss\\lib\\site-packages\\numpy\\core\\fromnumeric.py:84: FutureWarning: In a future version, DataFrame.max(axis=None) will return a scalar max over the entire DataFrame. To retain the old behavior, use 'frame.max(axis=0)' or just 'frame.max()'\n",
      "  return reduction(axis=axis, out=out, **passkwargs)\n"
     ]
    }
   ],
   "source": [
    "dfScaler=df.loc[:,'Chest pain type':'Thallium']\n",
    "x=(dfScaler-np.min(dfScaler))/(np.max(dfScaler)-np.min(dfScaler))\n",
    "print(x)"
   ]
  },
  {
   "cell_type": "markdown",
   "id": "897c8e6f",
   "metadata": {},
   "source": [
    "## Özellik mühendisliği"
   ]
  },
  {
   "cell_type": "code",
   "execution_count": 179,
   "id": "de596e74",
   "metadata": {},
   "outputs": [
    {
     "name": "stdout",
     "output_type": "stream",
     "text": [
      "     Age  Sex  Heart Disease_Absence  Heart Disease_Presence  Chest pain type  \\\n",
      "0     70    1                      0                       1         1.000000   \n",
      "1     67    0                      1                       0         0.666667   \n",
      "2     57    1                      0                       1         0.333333   \n",
      "3     64    1                      1                       0         1.000000   \n",
      "4     74    0                      1                       0         0.333333   \n",
      "..   ...  ...                    ...                     ...              ...   \n",
      "263   52    1                      1                       0         0.666667   \n",
      "264   44    1                      1                       0         0.333333   \n",
      "265   56    0                      1                       0         0.333333   \n",
      "266   57    1                      1                       0         1.000000   \n",
      "267   67    1                      0                       1         1.000000   \n",
      "\n",
      "           BP  Cholesterol  FBS over 120  EKG results    Max HR  \\\n",
      "0    0.339623     0.447489           0.0          1.0  0.290076   \n",
      "1    0.198113     1.000000           0.0          1.0  0.679389   \n",
      "2    0.283019     0.308219           0.0          0.0  0.534351   \n",
      "3    0.320755     0.312785           0.0          0.0  0.259542   \n",
      "4    0.245283     0.326484           0.0          0.0  0.381679   \n",
      "..        ...          ...           ...          ...       ...   \n",
      "263  0.735849     0.166667           1.0          0.0  0.694656   \n",
      "264  0.245283     0.312785           0.0          0.0  0.778626   \n",
      "265  0.433962     0.383562           0.0          1.0  0.625954   \n",
      "266  0.433962     0.150685           0.0          0.0  0.587786   \n",
      "267  0.622642     0.365297           0.0          1.0  0.282443   \n",
      "\n",
      "     Exercise angina  ST depression  Slope of ST  Number of vessels fluro  \\\n",
      "0                0.0       0.387097          0.5                 1.000000   \n",
      "1                0.0       0.258065          0.5                 0.000000   \n",
      "2                0.0       0.048387          0.0                 0.000000   \n",
      "3                1.0       0.032258          0.5                 0.333333   \n",
      "4                1.0       0.032258          0.0                 0.333333   \n",
      "..               ...            ...          ...                      ...   \n",
      "263              0.0       0.080645          0.0                 0.000000   \n",
      "264              0.0       0.000000          0.0                 0.000000   \n",
      "265              0.0       0.209677          0.5                 0.000000   \n",
      "266              0.0       0.064516          0.5                 0.000000   \n",
      "267              1.0       0.241935          0.5                 1.000000   \n",
      "\n",
      "     Thallium  \n",
      "0        0.00  \n",
      "1        1.00  \n",
      "2        1.00  \n",
      "3        1.00  \n",
      "4        0.00  \n",
      "..        ...  \n",
      "263      1.00  \n",
      "264      1.00  \n",
      "265      0.00  \n",
      "266      0.75  \n",
      "267      0.00  \n",
      "\n",
      "[268 rows x 15 columns]\n"
     ]
    }
   ],
   "source": [
    "dfNew=pd.concat([df.loc[:,[\"Age\",'Sex','Heart Disease_Absence','Heart Disease_Presence']],x],axis=1)\n",
    "print(dfNew)"
   ]
  },
  {
   "cell_type": "code",
   "execution_count": 180,
   "id": "ea01eae6",
   "metadata": {},
   "outputs": [],
   "source": [
    "dfNew.to_csv(\"Heart_Disease_Predictionn.csv\",sep=\";\")"
   ]
  },
  {
   "cell_type": "markdown",
   "id": "5cf37976",
   "metadata": {},
   "source": [
    "# Regresyon"
   ]
  },
  {
   "cell_type": "markdown",
   "id": "fdbf3e23",
   "metadata": {},
   "source": [
    "## Multiple linear regresyon"
   ]
  },
  {
   "cell_type": "code",
   "execution_count": 181,
   "id": "a893f79c",
   "metadata": {},
   "outputs": [
    {
     "name": "stdout",
     "output_type": "stream",
     "text": [
      "   Unnamed: 0  Age  Sex  Heart Disease_Absence  Heart Disease_Presence  \\\n",
      "0           0   70    1                      0                       1   \n",
      "1           1   67    0                      1                       0   \n",
      "2           2   57    1                      0                       1   \n",
      "3           3   64    1                      1                       0   \n",
      "4           4   74    0                      1                       0   \n",
      "\n",
      "   Chest pain type        BP  Cholesterol  FBS over 120  EKG results  \\\n",
      "0         1.000000  0.339623     0.447489           0.0          1.0   \n",
      "1         0.666667  0.198113     1.000000           0.0          1.0   \n",
      "2         0.333333  0.283019     0.308219           0.0          0.0   \n",
      "3         1.000000  0.320755     0.312785           0.0          0.0   \n",
      "4         0.333333  0.245283     0.326484           0.0          0.0   \n",
      "\n",
      "     Max HR  Exercise angina  ST depression  Slope of ST  \\\n",
      "0  0.290076              0.0       0.387097          0.5   \n",
      "1  0.679389              0.0       0.258065          0.5   \n",
      "2  0.534351              0.0       0.048387          0.0   \n",
      "3  0.259542              1.0       0.032258          0.5   \n",
      "4  0.381679              1.0       0.032258          0.0   \n",
      "\n",
      "   Number of vessels fluro  Thallium  \n",
      "0                 1.000000       0.0  \n",
      "1                 0.000000       1.0  \n",
      "2                 0.000000       1.0  \n",
      "3                 0.333333       1.0  \n",
      "4                 0.333333       0.0  \n"
     ]
    }
   ],
   "source": [
    "import pandas as pd\n",
    "import numpy as np\n",
    "import matplotlib.pyplot as plt\n",
    "from sklearn.linear_model import LinearRegression\n",
    "\n",
    "df=pd.read_csv(\"Heart_Disease_Predictionn.csv\",sep=\";\")\n",
    "print(df.head())"
   ]
  },
  {
   "cell_type": "markdown",
   "id": "e5e1bf6e",
   "metadata": {},
   "source": [
    "mlr=LinearRegression()"
   ]
  },
  {
   "cell_type": "code",
   "execution_count": 182,
   "id": "af7187d4",
   "metadata": {},
   "outputs": [],
   "source": [
    "mlr=LinearRegression()"
   ]
  },
  {
   "cell_type": "code",
   "execution_count": 183,
   "id": "cd1256f7",
   "metadata": {},
   "outputs": [],
   "source": [
    "x = df[['Age', 'Sex', 'Chest pain type', 'BP', 'Cholesterol', 'FBS over 120', 'EKG results', 'Max HR', 'Exercise angina', 'ST depression', 'Slope of ST', 'Number of vessels fluro', 'Thallium']]\n",
    "y = df['Heart Disease_Presence']"
   ]
  },
  {
   "cell_type": "code",
   "execution_count": 184,
   "id": "c8011cd1",
   "metadata": {},
   "outputs": [
    {
     "data": {
      "text/plain": [
       "LinearRegression()"
      ]
     },
     "execution_count": 184,
     "metadata": {},
     "output_type": "execute_result"
    }
   ],
   "source": [
    "mlr.fit(x,y)"
   ]
  },
  {
   "cell_type": "markdown",
   "id": "3e919fb6",
   "metadata": {},
   "source": [
    "# b0 b1 bulması"
   ]
  },
  {
   "cell_type": "code",
   "execution_count": 185,
   "id": "c00dd53e",
   "metadata": {},
   "outputs": [
    {
     "name": "stdout",
     "output_type": "stream",
     "text": [
      "-0.029494337483346345 [-0.00163062  0.15653292  0.26797528  0.18300614  0.25174425 -0.08469258\n",
      "  0.08123872 -0.34494949  0.12672294  0.25645763  0.09055488  0.40844982\n",
      "  0.24745548]\n"
     ]
    }
   ],
   "source": [
    "print(mlr.intercept_,mlr.coef_)"
   ]
  },
  {
   "cell_type": "code",
   "execution_count": 196,
   "id": "bea878a6",
   "metadata": {},
   "outputs": [
    {
     "name": "stdout",
     "output_type": "stream",
     "text": [
      "Multiple Linear Regression:\n",
      "mlr r2: 0.5457201960063764\n",
      "mlr mae: 0.26080395512723215\n",
      "mlr mse: 0.11233027008975767\n",
      "mlr mape: 571049947082328.4\n"
     ]
    }
   ],
   "source": [
    "from sklearn.metrics import r2_score,mean_absolute_error,mean_absolute_percentage_error,mean_squared_error\n",
    "\n",
    "mlr_pred=mlr.predict(x)\n",
    "print(\"Multiple Linear Regression:\")\n",
    "print(\"mlr r2:\",r2_score(y,mlr_pred))\n",
    "print(\"mlr mae:\",mean_absolute_error(y,mlr_pred))\n",
    "print(\"mlr mse:\",mean_squared_error(y,mlr_pred))\n",
    "print(\"mlr mape:\",mean_absolute_percentage_error(y,mlr_pred))"
   ]
  },
  {
   "cell_type": "markdown",
   "id": "d50ed41a",
   "metadata": {},
   "source": [
    "## Polynominal linear regresyon"
   ]
  },
  {
   "cell_type": "code",
   "execution_count": 197,
   "id": "cd8abc58",
   "metadata": {},
   "outputs": [
    {
     "data": {
      "text/plain": [
       "LinearRegression()"
      ]
     },
     "execution_count": 197,
     "metadata": {},
     "output_type": "execute_result"
    }
   ],
   "source": [
    "from sklearn.preprocessing import PolynomialFeatures\n",
    "plr=PolynomialFeatures(degree=3)\n",
    "\n",
    "x_pol=plr.fit_transform(x)\n",
    "lr_pol=LinearRegression()\n",
    "lr_pol.fit(x_pol,y)"
   ]
  },
  {
   "cell_type": "code",
   "execution_count": 198,
   "id": "31c28591",
   "metadata": {},
   "outputs": [
    {
     "name": "stdout",
     "output_type": "stream",
     "text": [
      " Polynominal linear regresyon:\n",
      "pol r2: 1.0\n",
      "pol mae: 1.3997767290216691e-11\n",
      "pol mse: 3.1366961130200743e-22\n",
      "pol mape: 35067.835820895525\n"
     ]
    }
   ],
   "source": [
    "pol_pred=lr_pol.predict(x_pol)\n",
    "print(\" Polynominal linear regresyon:\")\n",
    "print(\"pol r2:\",r2_score(y,pol_pred))\n",
    "print(\"pol mae:\",mean_absolute_error(y,pol_pred))\n",
    "print(\"pol mse:\",mean_squared_error(y,pol_pred))\n",
    "print(\"pol mape:\",mean_absolute_percentage_error(y,pol_pred))\n"
   ]
  },
  {
   "cell_type": "markdown",
   "id": "e1ace1ab",
   "metadata": {},
   "source": [
    "## Decision tree\n",
    " * Tahmin yaparken, bu ağaçı kullanarak sonuca ulaşır."
   ]
  },
  {
   "cell_type": "code",
   "execution_count": 199,
   "id": "eeadcd67",
   "metadata": {},
   "outputs": [],
   "source": [
    "import pandas as pd\n",
    "import numpy as np\n",
    "from sklearn.tree import DecisionTreeRegressor\n",
    "from sklearn.metrics import r2_score,mean_absolute_error,mean_squared_error\n",
    "\n",
    "df=pd.read_csv(\"Heart_Disease_Predictionn.csv\",sep=\";\")\n",
    "\n",
    "x = df[['Age', 'Sex', 'Chest pain type', 'BP', 'Cholesterol', 'FBS over 120', 'EKG results', 'Max HR', 'Exercise angina', 'ST depression', 'Slope of ST', 'Number of vessels fluro', 'Thallium']]\n",
    "y = df['Heart Disease_Presence']"
   ]
  },
  {
   "cell_type": "code",
   "execution_count": 200,
   "id": "ebe844ea",
   "metadata": {},
   "outputs": [
    {
     "name": "stdout",
     "output_type": "stream",
     "text": [
      "Decision Tree Regression:\n",
      "tree r2: 1.0\n",
      "tree mae: 0.0\n",
      "tree mse: 0.0\n",
      "tree mape: 0.0\n"
     ]
    }
   ],
   "source": [
    "tree_reg=DecisionTreeRegressor()\n",
    "tree_reg.fit(x,y)\n",
    "\n",
    "tree_pred=tree_reg.predict(x)\n",
    "print(\"Decision Tree Regression:\")\n",
    "print(\"tree r2:\",r2_score(y,tree_pred))\n",
    "print(\"tree mae:\",mean_absolute_error(y,tree_pred))\n",
    "print(\"tree mse:\",mean_squared_error(y,tree_pred))\n",
    "print(\"tree mape:\",mean_absolute_percentage_error(y,tree_pred))"
   ]
  },
  {
   "cell_type": "markdown",
   "id": "afe677a6",
   "metadata": {},
   "source": [
    "## Random forest\n",
    "\n",
    "* birden fazla karar ağacını kullanarak daha uyumlu modeller üreterek isabetli tahminlerde bulunmaya yarayan bir regresyon modelidir"
   ]
  },
  {
   "cell_type": "code",
   "execution_count": 201,
   "id": "326fa151",
   "metadata": {},
   "outputs": [
    {
     "name": "stdout",
     "output_type": "stream",
     "text": [
      " Random Forest Regression:\n",
      "rf r2: 0.9198338963963965\n",
      "rf mae: 0.09936567164179105\n",
      "rf mse: 0.019822761194029852\n",
      "rf mape: 223499533746371.66\n"
     ]
    }
   ],
   "source": [
    "from sklearn.ensemble import RandomForestRegressor\n",
    "\n",
    "rf=RandomForestRegressor(n_estimators=100,random_state=42)\n",
    "rf.fit(x,y)\n",
    "rf_pred=rf.predict(x)\n",
    "print(\" Random Forest Regression:\")\n",
    "print(\"rf r2:\",r2_score(y,rf_pred))\n",
    "print(\"rf mae:\",mean_absolute_error(y,rf_pred))\n",
    "print(\"rf mse:\",mean_squared_error(y,rf_pred))\n",
    "print(\"rf mape:\",mean_absolute_percentage_error(y,rf_pred))"
   ]
  },
  {
   "cell_type": "markdown",
   "id": "66b0e13e",
   "metadata": {},
   "source": [
    "## Train test split\n",
    "* Belirli probleme ait veriyi makineye öğretmek (train), ne kadar doğru öğrendiğini skorlamak (test) ve seçilen algoritma doğrultusunda daha önce görmediği veri girdi olarak verildiğinde çıktısının ne olacağını en yüksek doğruluk ile tahmin ettirebiliriz."
   ]
  },
  {
   "cell_type": "code",
   "execution_count": 202,
   "id": "be909463",
   "metadata": {},
   "outputs": [],
   "source": [
    "from sklearn.model_selection import train_test_split\n",
    "x_train,x_test,y_train,y_test=train_test_split(x,y,test_size=0.1,random_state=42)\n",
    "\n",
    "\n",
    "mlr=LinearRegression()\n",
    "mlr.fit(x_train,y_train)\n",
    "mlr_pred=mlr.predict(x_test)\n",
    "\n",
    "dt=DecisionTreeRegressor()\n",
    "dt.fit(x_train,y_train)\n",
    "dt_pred=dt.predict(x_test)\n",
    "\n",
    "rf=RandomForestRegressor(n_estimators=100,random_state=42)\n",
    "rf.fit(x_train,y_train)\n",
    "rf_pred=rf.predict(x_test)"
   ]
  },
  {
   "cell_type": "code",
   "execution_count": 203,
   "id": "62f9115d",
   "metadata": {},
   "outputs": [
    {
     "name": "stdout",
     "output_type": "stream",
     "text": [
      "mlr: r2: 0.5428718168285978 mae: 0.26811548062040713\n",
      "dt: r2: 0.40000000000000013 mae: 0.14814814814814814\n",
      "rf: r2: 0.57823 mae: 0.21407407407407406\n"
     ]
    }
   ],
   "source": [
    "from sklearn.metrics import r2_score,mean_absolute_error,mean_squared_error\n",
    "print(\"mlr:\",\"r2:\",r2_score(y_test,mlr_pred),\"mae:\",mean_absolute_error(y_test,mlr_pred))\n",
    "print(\"dt:\",\"r2:\",r2_score(y_test,dt_pred),\"mae:\",mean_absolute_error(y_test,dt_pred))\n",
    "print(\"rf:\",\"r2:\",r2_score(y_test,rf_pred),\"mae:\",mean_absolute_error(y_test,rf_pred))"
   ]
  },
  {
   "cell_type": "markdown",
   "id": "ad6f1a27",
   "metadata": {},
   "source": [
    "# yorum:\n",
    "* MSE değeri modelin ortalama kare hatasıdır.Ne kadar az o kadar iyi.\n",
    "* RMSE=Kök ortalama kare hata\n",
    "* Bu değerler gösteriyor ki düşük bir MSE değeri modelin gerçek değerlere ne kadar yakın tahmin yaptığını gösterir.\n",
    "* r2_score, modelin bağımsız değişkenlerinin varyansının."
   ]
  },
  {
   "cell_type": "code",
   "execution_count": null,
   "id": "2b700f76",
   "metadata": {},
   "outputs": [],
   "source": []
  },
  {
   "cell_type": "code",
   "execution_count": null,
   "id": "753044b9",
   "metadata": {},
   "outputs": [],
   "source": []
  },
  {
   "cell_type": "code",
   "execution_count": null,
   "id": "d8cb875b",
   "metadata": {},
   "outputs": [],
   "source": []
  },
  {
   "cell_type": "code",
   "execution_count": null,
   "id": "2f5fe772",
   "metadata": {},
   "outputs": [],
   "source": []
  },
  {
   "cell_type": "code",
   "execution_count": null,
   "id": "9228cc4c",
   "metadata": {},
   "outputs": [],
   "source": []
  },
  {
   "cell_type": "code",
   "execution_count": null,
   "id": "c1a3e2c0",
   "metadata": {},
   "outputs": [],
   "source": []
  },
  {
   "cell_type": "code",
   "execution_count": null,
   "id": "a7f7ad6c",
   "metadata": {},
   "outputs": [],
   "source": []
  },
  {
   "cell_type": "code",
   "execution_count": null,
   "id": "f331de91",
   "metadata": {},
   "outputs": [],
   "source": []
  },
  {
   "cell_type": "code",
   "execution_count": null,
   "id": "c863b187",
   "metadata": {},
   "outputs": [],
   "source": []
  }
 ],
 "metadata": {
  "kernelspec": {
   "display_name": "Python 3 (ipykernel)",
   "language": "python",
   "name": "python3"
  },
  "language_info": {
   "codemirror_mode": {
    "name": "ipython",
    "version": 3
   },
   "file_extension": ".py",
   "mimetype": "text/x-python",
   "name": "python",
   "nbconvert_exporter": "python",
   "pygments_lexer": "ipython3",
   "version": "3.9.12"
  }
 },
 "nbformat": 4,
 "nbformat_minor": 5
}
